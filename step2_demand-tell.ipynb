{
 "cells": [
  {
   "cell_type": "code",
   "execution_count": null,
   "metadata": {},
   "outputs": [],
   "source": [
    "import os\n",
    "import tell\n",
    "import pandas as pd"
   ]
  },
  {
   "cell_type": "code",
   "execution_count": null,
   "metadata": {},
   "outputs": [],
   "source": [
    "startyear={\"historical\":2000,'future':2020}\n",
    "endyear={\"historical\":2019,'future':2059}"
   ]
  },
  {
   "cell_type": "code",
   "execution_count": null,
   "metadata": {},
   "outputs": [],
   "source": [
    "mdir='/orcd/nese/mhowland/001/lyqiu/GODEEP/'"
   ]
  },
  {
   "cell_type": "markdown",
   "metadata": {},
   "source": [
    "# MLP training"
   ]
  },
  {
   "cell_type": "code",
   "execution_count": null,
   "metadata": {},
   "outputs": [],
   "source": [
    "# Run the MLP training step for a single BA (i.e., \"region\"):\n",
    "#By default the MLP models are trained on data from 2016-2018 and evaluated using data from 2019. \n",
    "prediction_df, validation_df = tell.train(region = 'CISO',\n",
    "                                          data_dir = f'{mdir}/Demand/Demand_TELL/inputs/compiled_historical_data/')\n",
    "\n",
    "# View the head of the prediction dataframe that contains the time-series of projected load in the evaluation year:\n",
    "display(prediction_df.head(10))\n",
    "\n",
    "# View validation dataframe that contains error statistics for the trained model:\n",
    "validation_df"
   ]
  },
  {
   "cell_type": "markdown",
   "metadata": {},
   "source": [
    "# MLP model projection\n"
   ]
  },
  {
   "cell_type": "code",
   "execution_count": null,
   "metadata": {},
   "outputs": [],
   "source": [
    "# Run the MLP prediction step for the list of BAs using parallel processing streams:\n",
    "ba_abbrev_list = tell.get_balancing_authority_to_model_dict().keys()\n",
    "clisce='rcp85hotter'\n",
    "popsce='_ssp5'\n",
    "\n",
    "if clisce=='historical':\n",
    "    sy=startyear['historical']\n",
    "    ey=endyear['historical']\n",
    "else:\n",
    "    sy=startyear['future']\n",
    "    ey=endyear['future']\n",
    "for iy in range(sy,ey+1):\n",
    "    pdf = tell.predict_batch(target_region_list = ba_abbrev_list,\n",
    "                            year = iy,\n",
    "                            data_dir = f\"{mdir}/TGW/Meteorology/{clisce}{popsce}/\",\n",
    "                            datetime_field_name = 'Time_UTC',\n",
    "                            save_prediction = True,\n",
    "                            prediction_output_directory = \"{mdir}/Demand/Demand_TELL/outputs/mlp_output/%s%s\"(clisce,popsce),\n",
    "                            n_jobs = -1)"
   ]
  },
  {
   "cell_type": "markdown",
   "metadata": {},
   "source": [
    "# detrend data"
   ]
  },
  {
   "cell_type": "code",
   "execution_count": null,
   "metadata": {},
   "outputs": [],
   "source": [
    "for sce in ['historic','rcp85hotter_ssp5','rcp45hotter_ssp5']:\n",
    "    if sce=='historic':\n",
    "        sy=1981\n",
    "        ey=2020\n",
    "    else:\n",
    "        sy=2040\n",
    "        ey=2060\n",
    "    for ISO in ['ISNE','CISO','ERCO']:\n",
    "        df=pd.DataFrame()\n",
    "        for iy in range(sy,ey):\n",
    "            a=pd.read_csv(f'{mdir}/TGW/Meteorology/ISOmean/{sce}/{ISO}_WRF_Hourly_Mean_Meteorology_{iy}.csv')\n",
    "            df=pd.concat([df,a])\n",
    "        df=df.set_index('Time_UTC')\n",
    "        mean=df.mean().to_frame().T\n",
    "        mean.to_csv(f'{mdir}/TGW/Meteorology/ISOmean/{sce}/{ISO}_WRF_Hourly_Mean_Meteorology.csv')\n"
   ]
  },
  {
   "cell_type": "code",
   "execution_count": null,
   "metadata": {},
   "outputs": [],
   "source": [
    "for sce in ['rcp85hotter_ssp5','rcp45hotter_ssp5']:\n",
    "    dir=f\"{mdir}/TGW/Meteorology/ISOmean_detrend/{sce}/\"\n",
    "    if not os.path.exists(dir):\n",
    "        os.makedirs(dir)\n",
    "    for ISO in ['ISNE','CISO','ERCO']:\n",
    "        hist_mean=pd.read_csv(f'{mdir}/TGW/Meteorology/ISOmean/historic/{ISO}_WRF_Hourly_Mean_Meteorology.csv')\n",
    "        future_mean=pd.read_csv(f'{mdir}/TGW/Meteorology/ISOmean/{sce}/{ISO}_WRF_Hourly_Mean_Meteorology.csv')    \n",
    "        correction_add=hist_mean-future_mean\n",
    "        correction_mul=hist_mean/future_mean\n",
    "        for iy in range(2040,2060):\n",
    "            a=pd.read_csv(f'{mdir}/TGW/Meteorology/ISOmean/{sce}/{ISO}_WRF_Hourly_Mean_Meteorology_{iy}.csv')\n",
    "            a['T2']=a['T2']+correction_add['T2'].values[0]\n",
    "            a['Q2']=a['Q2']+correction_add['Q2'].values[0]\n",
    "            a['WSPD']=a['WSPD']+correction_add['WSPD'].values[0]\n",
    "            a['SWDOWN']=a['SWDOWN']*correction_mul['SWDOWN'].values[0]\n",
    "            a.to_csv(f'{dir}/{ISO}_WRF_Hourly_Mean_Meteorology_{iy}.csv')\n"
   ]
  },
  {
   "cell_type": "code",
   "execution_count": null,
   "metadata": {},
   "outputs": [],
   "source": [
    "for sce in ['rcp85hotter_ssp5','rcp45hotter_ssp5']:\n",
    "    for ISO in ['ISNE','CISO','ERCO']:\n",
    "        for iy in range(2040,2060):\n",
    "            pdf = tell.predict(region=ISO,\n",
    "                                    year = iy,\n",
    "                                    data_dir = f\"{mdir}/TGW/Meteorology/ISOmean_detrend/{sce}/\",\n",
    "                                    datetime_field_name = 'Time_UTC',\n",
    "                                    save_prediction = True,\n",
    "                                    prediction_output_directory = f\"{mdir}/Demand/Demand_TELL/outputs/mlpdr/{sce}\")"
   ]
  },
  {
   "cell_type": "markdown",
   "metadata": {},
   "source": [
    "# Validation"
   ]
  },
  {
   "cell_type": "code",
   "execution_count": 10,
   "metadata": {},
   "outputs": [],
   "source": [
    "demanddir=f\"{mdir}/Demand/Demand_TELL/outputs/mlp_output/\""
   ]
  },
  {
   "cell_type": "code",
   "execution_count": null,
   "metadata": {},
   "outputs": [
    {
     "data": {
      "text/html": [
       "<div>\n",
       "<style scoped>\n",
       "    .dataframe tbody tr th:only-of-type {\n",
       "        vertical-align: middle;\n",
       "    }\n",
       "\n",
       "    .dataframe tbody tr th {\n",
       "        vertical-align: top;\n",
       "    }\n",
       "\n",
       "    .dataframe thead th {\n",
       "        text-align: right;\n",
       "    }\n",
       "</style>\n",
       "<table border=\"1\" class=\"dataframe\">\n",
       "  <thead>\n",
       "    <tr style=\"text-align: right;\">\n",
       "      <th></th>\n",
       "      <th>ISO</th>\n",
       "      <th>Year</th>\n",
       "      <th>Mean Bias</th>\n",
       "      <th>Mean Absolute Error</th>\n",
       "      <th>Mean Square Error</th>\n",
       "      <th>Correlation</th>\n",
       "    </tr>\n",
       "  </thead>\n",
       "  <tbody>\n",
       "    <tr>\n",
       "      <th>0</th>\n",
       "      <td>ISONE</td>\n",
       "      <td>2016</td>\n",
       "      <td>-1.385641</td>\n",
       "      <td>6.898015</td>\n",
       "      <td>66.679286</td>\n",
       "      <td>0.920806</td>\n",
       "    </tr>\n",
       "  </tbody>\n",
       "</table>\n",
       "</div>"
      ],
      "text/plain": [
       "     ISO  Year  Mean Bias  Mean Absolute Error  Mean Square Error  Correlation\n",
       "0  ISONE  2016  -1.385641             6.898015          66.679286     0.920806"
      ]
     },
     "metadata": {},
     "output_type": "display_data"
    }
   ],
   "source": [
    "ISOs=['ISONE']\n",
    "ISOnames={'ISONE':'ISNE','CAISO':'CISO','ERCOT':'ERCO'}\n",
    "period=\"historic\"\n",
    "for ISO in ISOs:\n",
    "    obs=pd.read_csv(\"/pool001/lyqiu/Siting_Optimization/Qiu_etal_2024_ERCOT/Demand/Demand_%s.csv\"%ISO)\n",
    "    obs['Time']=pd.to_datetime(obs['Time'])\n",
    "    obs=obs.set_index('Time')\n",
    "    obs=obs.rename(columns={'Demand':'Obs'})\n",
    "    # obs=pd.read_csv(f\"{mdir}/Demand/Demand_TELL/inputs/historical_ba_load/{ISOnames[ISO]}_hourly_load_data.csv\")\n",
    "    # obs['Time']=pd.to_datetime(obs['Year'].astype(str)+'-'+obs['Month'].astype(str)+'-'+obs['Day'].astype(str)+' '+obs['Hour'].astype(str)+':00:00')    \n",
    "    # obs=obs.set_index('Time')\n",
    "    # obs=obs.rename(columns={'Adjusted_Demand_MWh':'Obs'})\n",
    "    for iy in range(2016,2017):\n",
    "        telldata=pd.read_csv(demanddir+\"%s/%d/%s_%d_mlp_output.csv\"%(period,iy,ISOnames[ISO],iy))\n",
    "        telldata['Time']=pd.to_datetime(telldata['Time_UTC'])\n",
    "        telldata=telldata.rename(columns={'Load':'MLP'})\n",
    "        obs_year=obs.loc[str(iy)]\n",
    "        validation=pd.merge(telldata,obs_year,left_on='Time',right_index=True,how='inner')\n",
    "        validation['error']=(validation['MLP']-validation['Obs'])/validation['Obs']*100\n",
    "        meanbias=validation['error'].mean()\n",
    "        mae=validation['error'].abs().mean()\n",
    "        mse=(validation['error']**2).mean()\n",
    "        corr=validation['MLP'].corr(validation['Obs'])\n",
    "        df=pd.DataFrame({'ISO':[ISO],'Year':[iy],'Mean Bias':[meanbias],'Mean Absolute Error':[mae],'Mean Square Error':[mse],'Correlation':[corr]})\n",
    "        display(df)"
   ]
  }
 ],
 "metadata": {
  "kernelspec": {
   "display_name": "tell3",
   "language": "python",
   "name": "python3"
  },
  "language_info": {
   "codemirror_mode": {
    "name": "ipython",
    "version": 3
   },
   "file_extension": ".py",
   "mimetype": "text/x-python",
   "name": "python",
   "nbconvert_exporter": "python",
   "pygments_lexer": "ipython3",
   "version": "3.10.16"
  }
 },
 "nbformat": 4,
 "nbformat_minor": 2
}
